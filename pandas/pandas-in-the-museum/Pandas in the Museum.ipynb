{
 "cells": [
  {
   "cell_type": "markdown",
   "metadata": {},
   "source": [
    "# Playing with Pandas in the Museum: Collection Data Analysis\n",
    "\n",
    "Pandas is a Python based data analysis library providing similiar functionality to R. This tutorial provides a very speedy introduction based around museum collection data (from the V&A, Tate & MoMa) \n",
    "\n",
    "## Pandas: A quick introduction\n",
    "\n",
    "To quote from the [website](http://pandas.pydata.org/):\n",
    "\n",
    "   pandas is an open source, BSD-licensed library providing high-performance, easy-to-use data structures and data analysis tools for the Python programming language.\n"
   ]
  },
  {
   "cell_type": "markdown",
   "metadata": {},
   "source": [
    "## Pandas - The Bear Essentials\n",
    "\n",
    "Data is stored in Pandas as an array. This can either be a 'Series' (one index column, one data column) \n",
    "or a DataFrame (multiple columns, possibly with multiple index columns). That's it!\n",
    "\n",
    "Most of the operations built into Pandas work on translating/tranforming/mapping data in one\n",
    "or more of these columns in some way, creating another column in the existing DataFrame as an output or generating \n",
    "a new Series/DataFrame. By running a series of operations on your input data, you can clean up\n",
    "your data (probably the majority of your time is spent on this process), run operations on it, export it, visualise it, or archive it in the (compressed, binary) HDF format for speed of retrieval for future operations on the data (Under development is a new more interoperable archive format of '[Feathers](https://blog.rstudio.org/2016/03/29/feather/)' which will be sharable between Pandas and [R](https://www.r-project.org)\n",
    "\n",
    "## Installing\n",
    "\n",
    "Comprehensive installation details are available [here](http://pandas.pydata.org/getpandas.html). For Python users, installation in a virtualenv using pip is recommended, assuming supporting libraries are installed.\n",
    "\n"
   ]
  },
  {
   "cell_type": "markdown",
   "metadata": {},
   "source": [
    "## Running Pandas\n",
    "\n",
    "Once installed, pandas is imported in a python session or script as follows:"
   ]
  },
  {
   "cell_type": "code",
   "execution_count": 2,
   "metadata": {
    "collapsed": true
   },
   "outputs": [],
   "source": [
    "import numpy\n",
    "import pandas as pd"
   ]
  },
  {
   "cell_type": "markdown",
   "metadata": {},
   "source": [
    "## Reading in data\n",
    "\n",
    "So now we have a data analysis library ready for use, we just need some collections data to analyse. Let's retrieve some object data from the [V&A's Collection](http://collections.vam.ac.uk) using the public [API](http://www.vam.ac.uk/api/):\n",
    "\n",
    "curl -s http://www.vam.ac.uk/api/json/museumobject/search?q=pandas | jq -r '[\"id\", \"object\", \"title\", \"artist\", \"year_start\", \"place\"], (.records[].fields | [.object_number,.object,.title,.artist,.year_start,.place]) | @csv' > pandas.csv\n",
    "\n",
    "\n",
    "The above Unix shell command runs a API query for 'panda' related objects in the collections, which returns 10 matching records in JSON format (in a custom data structure) . This data is then piped into jq to convert it into a standard CSV format for reading into Pandas (see Matthew Lincoln's excellent introduction to [reshaping JSON & using JQ](http://programminghistorian.github.io/ph-submissions/lessons/json-and-jq.html) for a guide to transforming JSON into CSV and much more!) The jq command pulls out the fields 'object_number', 'object', 'title', 'artist', 'year_start' and 'place' from each object. We also instruct jq to add the folowing column headers to the CSV file which will aid Pandas in labeling the data when it read it in\n",
    "\n",
    "```\n",
    "ObjectId,Object,Title,Artist,ProductionDateEarliest,Place\n",
    "...\n",
    "```\n",
    "\n",
    "Converting the data like this to CSV means we can now make use of Pandas built in ability to read CSV files, other data formats are available (and may be more effeciant for larger datasets).\n",
    "\n",
    "So let's try reading in our CSV file (with the headers and data)\n"
   ]
  },
  {
   "cell_type": "code",
   "execution_count": 4,
   "metadata": {
    "collapsed": false
   },
   "outputs": [],
   "source": [
    "df_objects = pd.read_csv(\"pandas.csv\")"
   ]
  },
  {
   "cell_type": "markdown",
   "metadata": {},
   "source": [
    "If the first line doesn't contain the headers, you can tell pandas this:"
   ]
  },
  {
   "cell_type": "code",
   "execution_count": 5,
   "metadata": {
    "collapsed": true
   },
   "outputs": [],
   "source": [
    "df_objects = pd.read_csv(\"pandas.csv\", header=None)"
   ]
  },
  {
   "cell_type": "markdown",
   "metadata": {},
   "source": [
    "otherwise it will \"eat\" the first line and use them as column names. You can also set the headers yourself:"
   ]
  },
  {
   "cell_type": "code",
   "execution_count": 6,
   "metadata": {
    "collapsed": true
   },
   "outputs": [],
   "source": [
    "df_objects = pd.read_csv(\"pandas.csv\", names=['id','Object','Title','Artist','ProductionDateEarliest','Place'])"
   ]
  },
  {
   "cell_type": "markdown",
   "metadata": {},
   "source": [
    "That should have worked without any output. If Pandas couldn't parse the CSV file it will tell you what caused the parse error.\n",
    "\n",
    "We've saved the results of reading in the file into df_objects. By default Pandas will create a DataFrame to store the data, which is, much like you would expect, a series of rows of data indexed by either an assigned identifier or a generated incremental identifier (0, 1, 2, 3, etc). If the CSV only contained one index column and one data column this may be overkill, so could instruct Pandas to create a Series data structure instead:\n",
    "\n",
    "curl -s http://www.vam.ac.uk/api/json/museumobject/search?q=pandas | jq -r '[\"id\", \"artist\"], (.records[].fields | [.object_number,.artist]) | @csv' > pandas-artist.csv\n",
    "\n",
    "    series_artists = pd.read_csv(\"pandas-artist.csv\", squeeze=True)\n",
    "\n",
    "Later we could turn that back into a DataFrame with:\n",
    "\n",
    "    df_artists = pd.DataFrame(series_artists)\n",
    "\n",
    "The difference between the two formats will come into XXX\n",
    "\n",
    "# Basic Operations\n",
    "\n",
    "So now, we have our data read in, lets take a look at it. We can find how\n",
    "many rows there are in the normal Pythonic way:\n"
   ]
  },
  {
   "cell_type": "code",
   "execution_count": 5,
   "metadata": {
    "collapsed": false
   },
   "outputs": [
    {
     "data": {
      "text/plain": [
       "10"
      ]
     },
     "execution_count": 5,
     "metadata": {},
     "output_type": "execute_result"
    }
   ],
   "source": [
    "len(df_objects)"
   ]
  },
  {
   "cell_type": "markdown",
   "metadata": {},
   "source": [
    "or we can get some more detailed Pandas information:"
   ]
  },
  {
   "cell_type": "code",
   "execution_count": 6,
   "metadata": {
    "collapsed": false
   },
   "outputs": [
    {
     "name": "stdout",
     "output_type": "stream",
     "text": [
      "<class 'pandas.core.frame.DataFrame'>\n",
      "RangeIndex: 10 entries, 0 to 9\n",
      "Data columns (total 6 columns):\n",
      "id            10 non-null object\n",
      "object        10 non-null object\n",
      "title         6 non-null object\n",
      "artist        10 non-null object\n",
      "year_start    0 non-null float64\n",
      "place         10 non-null object\n",
      "dtypes: float64(1), object(5)\n",
      "memory usage: 560.0+ bytes\n"
     ]
    }
   ],
   "source": [
    "df_objects.info()"
   ]
  },
  {
   "cell_type": "markdown",
   "metadata": {},
   "source": [
    "We can get the dimensions of the array (rows, columns)\n",
    "\n",
    "# TODO \n",
    "\n",
    "Pandas will create an index column if we don't give a name of 'id', or tell it which column to use"
   ]
  },
  {
   "cell_type": "code",
   "execution_count": 7,
   "metadata": {
    "collapsed": false
   },
   "outputs": [
    {
     "data": {
      "text/plain": [
       "(10, 6)"
      ]
     },
     "execution_count": 7,
     "metadata": {},
     "output_type": "execute_result"
    }
   ],
   "source": [
    "df_objects.shape"
   ]
  },
  {
   "cell_type": "markdown",
   "metadata": {},
   "source": [
    "Which has as we expect 6 columns - id, Object, Title, Artist, ProductionDataEarliest, Place) and 10 data rows \n",
    "\n",
    "So, now we know the data has been read in successfully. Let's take a look at it.\n",
    "\n",
    "The head() & tail() function work much like you would expect (expecially if you are used to the Unix equivalents). They return (by default 5) rows\n"
   ]
  },
  {
   "cell_type": "code",
   "execution_count": 8,
   "metadata": {
    "collapsed": false
   },
   "outputs": [
    {
     "data": {
      "text/html": [
       "<div>\n",
       "<table border=\"1\" class=\"dataframe\">\n",
       "  <thead>\n",
       "    <tr style=\"text-align: right;\">\n",
       "      <th></th>\n",
       "      <th>id</th>\n",
       "      <th>object</th>\n",
       "      <th>title</th>\n",
       "      <th>artist</th>\n",
       "      <th>year_start</th>\n",
       "      <th>place</th>\n",
       "    </tr>\n",
       "  </thead>\n",
       "  <tbody>\n",
       "    <tr>\n",
       "      <th>0</th>\n",
       "      <td>O26744</td>\n",
       "      <td>Card game</td>\n",
       "      <td>pandas' party</td>\n",
       "      <td>Unknown</td>\n",
       "      <td>NaN</td>\n",
       "      <td>England</td>\n",
       "    </tr>\n",
       "    <tr>\n",
       "      <th>1</th>\n",
       "      <td>O49687</td>\n",
       "      <td>Set of soft toy pandas</td>\n",
       "      <td>NaN</td>\n",
       "      <td>Fiat</td>\n",
       "      <td>NaN</td>\n",
       "      <td>Asia</td>\n",
       "    </tr>\n",
       "    <tr>\n",
       "      <th>2</th>\n",
       "      <td>O1160896</td>\n",
       "      <td>Sculpture</td>\n",
       "      <td>Bruised</td>\n",
       "      <td>Ji Ji</td>\n",
       "      <td>NaN</td>\n",
       "      <td>Shanghai</td>\n",
       "    </tr>\n",
       "    <tr>\n",
       "      <th>3</th>\n",
       "      <td>O1177173</td>\n",
       "      <td>Sculpture</td>\n",
       "      <td>Angry</td>\n",
       "      <td>Ji Ji</td>\n",
       "      <td>NaN</td>\n",
       "      <td>Shanghai</td>\n",
       "    </tr>\n",
       "    <tr>\n",
       "      <th>4</th>\n",
       "      <td>O1363217</td>\n",
       "      <td>Teddy bear</td>\n",
       "      <td>Panda</td>\n",
       "      <td>unknown</td>\n",
       "      <td>NaN</td>\n",
       "      <td>United Kingdom</td>\n",
       "    </tr>\n",
       "  </tbody>\n",
       "</table>\n",
       "</div>"
      ],
      "text/plain": [
       "         id                  object          title   artist  year_start  \\\n",
       "0    O26744               Card game  pandas' party  Unknown         NaN   \n",
       "1    O49687  Set of soft toy pandas            NaN     Fiat         NaN   \n",
       "2  O1160896               Sculpture        Bruised    Ji Ji         NaN   \n",
       "3  O1177173               Sculpture          Angry    Ji Ji         NaN   \n",
       "4  O1363217              Teddy bear          Panda  unknown         NaN   \n",
       "\n",
       "            place  \n",
       "0         England  \n",
       "1            Asia  \n",
       "2        Shanghai  \n",
       "3        Shanghai  \n",
       "4  United Kingdom  "
      ]
     },
     "execution_count": 8,
     "metadata": {},
     "output_type": "execute_result"
    }
   ],
   "source": [
    "df_objects.head()"
   ]
  },
  {
   "cell_type": "code",
   "execution_count": 9,
   "metadata": {
    "collapsed": false
   },
   "outputs": [
    {
     "data": {
      "text/html": [
       "<div>\n",
       "<table border=\"1\" class=\"dataframe\">\n",
       "  <thead>\n",
       "    <tr style=\"text-align: right;\">\n",
       "      <th></th>\n",
       "      <th>id</th>\n",
       "      <th>object</th>\n",
       "      <th>title</th>\n",
       "      <th>artist</th>\n",
       "      <th>year_start</th>\n",
       "      <th>place</th>\n",
       "    </tr>\n",
       "  </thead>\n",
       "  <tbody>\n",
       "    <tr>\n",
       "      <th>7</th>\n",
       "      <td>O1193257</td>\n",
       "      <td>birthday cards</td>\n",
       "      <td>NaN</td>\n",
       "      <td>Hallmark Cards</td>\n",
       "      <td>NaN</td>\n",
       "      <td>Great Britain</td>\n",
       "    </tr>\n",
       "    <tr>\n",
       "      <th>8</th>\n",
       "      <td>O1152697</td>\n",
       "      <td>Teddy bear</td>\n",
       "      <td>NaN</td>\n",
       "      <td>Schuco</td>\n",
       "      <td>NaN</td>\n",
       "      <td>Germany</td>\n",
       "    </tr>\n",
       "    <tr>\n",
       "      <th>9</th>\n",
       "      <td>O107238</td>\n",
       "      <td>Print</td>\n",
       "      <td>Slottizoo Panda</td>\n",
       "      <td>Richards, Clifford</td>\n",
       "      <td>NaN</td>\n",
       "      <td>United Kingdom</td>\n",
       "    </tr>\n",
       "  </tbody>\n",
       "</table>\n",
       "</div>"
      ],
      "text/plain": [
       "         id          object            title              artist  year_start  \\\n",
       "7  O1193257  birthday cards              NaN      Hallmark Cards         NaN   \n",
       "8  O1152697      Teddy bear              NaN              Schuco         NaN   \n",
       "9   O107238           Print  Slottizoo Panda  Richards, Clifford         NaN   \n",
       "\n",
       "            place  \n",
       "7   Great Britain  \n",
       "8         Germany  \n",
       "9  United Kingdom  "
      ]
     },
     "execution_count": 9,
     "metadata": {},
     "output_type": "execute_result"
    }
   ],
   "source": [
    "df_objects.tail(3)"
   ]
  },
  {
   "cell_type": "markdown",
   "metadata": {},
   "source": [
    "Or we can show a slice of the data, by row:"
   ]
  },
  {
   "cell_type": "code",
   "execution_count": 10,
   "metadata": {
    "collapsed": false
   },
   "outputs": [
    {
     "data": {
      "text/html": [
       "<div>\n",
       "<table border=\"1\" class=\"dataframe\">\n",
       "  <thead>\n",
       "    <tr style=\"text-align: right;\">\n",
       "      <th></th>\n",
       "      <th>id</th>\n",
       "      <th>object</th>\n",
       "      <th>title</th>\n",
       "      <th>artist</th>\n",
       "      <th>year_start</th>\n",
       "      <th>place</th>\n",
       "    </tr>\n",
       "  </thead>\n",
       "  <tbody>\n",
       "    <tr>\n",
       "      <th>2</th>\n",
       "      <td>O1160896</td>\n",
       "      <td>Sculpture</td>\n",
       "      <td>Bruised</td>\n",
       "      <td>Ji Ji</td>\n",
       "      <td>NaN</td>\n",
       "      <td>Shanghai</td>\n",
       "    </tr>\n",
       "    <tr>\n",
       "      <th>3</th>\n",
       "      <td>O1177173</td>\n",
       "      <td>Sculpture</td>\n",
       "      <td>Angry</td>\n",
       "      <td>Ji Ji</td>\n",
       "      <td>NaN</td>\n",
       "      <td>Shanghai</td>\n",
       "    </tr>\n",
       "  </tbody>\n",
       "</table>\n",
       "</div>"
      ],
      "text/plain": [
       "         id     object    title artist  year_start     place\n",
       "2  O1160896  Sculpture  Bruised  Ji Ji         NaN  Shanghai\n",
       "3  O1177173  Sculpture    Angry  Ji Ji         NaN  Shanghai"
      ]
     },
     "execution_count": 10,
     "metadata": {},
     "output_type": "execute_result"
    }
   ],
   "source": [
    "df_objects[2:4]"
   ]
  },
  {
   "cell_type": "markdown",
   "metadata": {},
   "source": [
    "or by column:"
   ]
  },
  {
   "cell_type": "code",
   "execution_count": 11,
   "metadata": {
    "collapsed": false
   },
   "outputs": [
    {
     "data": {
      "text/plain": [
       "0      pandas' party\n",
       "1                NaN\n",
       "2            Bruised\n",
       "3              Angry\n",
       "4              Panda\n",
       "5           Jingjing\n",
       "6                NaN\n",
       "7                NaN\n",
       "8                NaN\n",
       "9    Slottizoo Panda\n",
       "Name: title, dtype: object"
      ]
     },
     "execution_count": 11,
     "metadata": {},
     "output_type": "execute_result"
    }
   ],
   "source": [
    "df_objects['title']"
   ]
  },
  {
   "cell_type": "markdown",
   "metadata": {},
   "source": [
    "or both:"
   ]
  },
  {
   "cell_type": "code",
   "execution_count": 12,
   "metadata": {
    "collapsed": false
   },
   "outputs": [
    {
     "data": {
      "text/plain": [
       "3    Angry\n",
       "4    Panda\n",
       "Name: title, dtype: object"
      ]
     },
     "execution_count": 12,
     "metadata": {},
     "output_type": "execute_result"
    }
   ],
   "source": [
    "df_objects['title'][3:5]"
   ]
  },
  {
   "cell_type": "markdown",
   "metadata": {},
   "source": [
    "## Cleaning up the Data\n",
    "\n",
    "\n",
    "Before we can start doing anything meaningful with the data, we need to get\n",
    "it into shape. First we should remove any rows that don't contain any meaningful values (i.e. blank fields):"
   ]
  },
  {
   "cell_type": "code",
   "execution_count": 13,
   "metadata": {
    "collapsed": false
   },
   "outputs": [
    {
     "data": {
      "text/plain": [
       "0"
      ]
     },
     "execution_count": 13,
     "metadata": {},
     "output_type": "execute_result"
    }
   ],
   "source": [
    "df_objects_clean = df_objects.dropna(inplace=False)\n",
    "len(df_objects_clean)"
   ]
  },
  {
   "cell_type": "markdown",
   "metadata": {},
   "source": [
    "This has thrown out rows that have blank values (the definition of what is considered a blank value is configurable, see the na_values argument in the [docs](http://pandas.pydata.org/pandas-docs/stable/generated/pandas.read_csv.html). Unfortunaley for us, all the rows have some blank values, so we are left with no data.\n",
    "\n",
    "A more useful data cleaning option is to tell Pandas which columns we really care about being blank, and to keep the rest. Let's say we always insist on having a title:"
   ]
  },
  {
   "cell_type": "code",
   "execution_count": 16,
   "metadata": {
    "collapsed": false
   },
   "outputs": [
    {
     "data": {
      "text/plain": [
       "6"
      ]
     },
     "execution_count": 16,
     "metadata": {},
     "output_type": "execute_result"
    }
   ],
   "source": [
    "df_objects_clean = df_objects.dropna(subset=['title'])\n",
    "len(df_objects_clean)"
   ]
  },
  {
   "cell_type": "markdown",
   "metadata": {},
   "source": [
    "Now we have all the rows that have an title set, even if other columns are blank.\n",
    "\n",
    "Finally, if we don't need to keep the original DataFrame (df_objects) we can avoid having to create another variable by passing the inplace=True argument to the function (this works for most functions) and the data clean will operate on the original variable."
   ]
  },
  {
   "cell_type": "markdown",
   "metadata": {},
   "source": [
    "Also as part of a data cleanup, we might want to remove any duplicate values. Let's say we only want an artist to appear once in the list. First we need to select the column we will check for duplicates on. We do this by creating a mask array of boolean values"
   ]
  },
  {
   "cell_type": "code",
   "execution_count": 23,
   "metadata": {
    "collapsed": false
   },
   "outputs": [
    {
     "data": {
      "text/plain": [
       "0                artist\n",
       "1    Richards, Clifford\n",
       "2                 Ji Ji\n",
       "3                 Ji Ji\n",
       "4                 Ji Ji\n",
       "Name: Artist, dtype: object"
      ]
     },
     "execution_count": 23,
     "metadata": {},
     "output_type": "execute_result"
    }
   ],
   "source": [
    "artists = df_objects['Artist']\n",
    "artists.head()"
   ]
  },
  {
   "cell_type": "markdown",
   "metadata": {},
   "source": [
    "Now we ask Pandas to look for duplicate values in the column, this creates a new column of the same length but now of boolean values, 'True' for a duplicate and 'False' for not. We also pass the option keep='first' to tell Pandas to mark the first occurance of a duplicated value as 'False' (alternatively we could have passed keep='last')"
   ]
  },
  {
   "cell_type": "code",
   "execution_count": 20,
   "metadata": {
    "collapsed": false
   },
   "outputs": [
    {
     "data": {
      "text/plain": [
       "0    False\n",
       "1    False\n",
       "2    False\n",
       "3     True\n",
       "4     True\n",
       "Name: Artist, dtype: bool"
      ]
     },
     "execution_count": 20,
     "metadata": {},
     "output_type": "execute_result"
    }
   ],
   "source": [
    "non_duplicates_mask = artists.duplicated(keep='first')\n",
    "non_duplicates_mask.head()"
   ]
  },
  {
   "cell_type": "markdown",
   "metadata": {},
   "source": [
    "Next we negate these values, so we now have a list of duplicate values"
   ]
  },
  {
   "cell_type": "code",
   "execution_count": 21,
   "metadata": {
    "collapsed": false
   },
   "outputs": [
    {
     "data": {
      "text/plain": [
       "0     True\n",
       "1     True\n",
       "2     True\n",
       "3    False\n",
       "4    False\n",
       "Name: Artist, dtype: bool"
      ]
     },
     "execution_count": 21,
     "metadata": {},
     "output_type": "execute_result"
    }
   ],
   "source": [
    "duplicates_mask = ~non_duplicates_mask\n",
    "duplicates_mask.head()"
   ]
  },
  {
   "cell_type": "markdown",
   "metadata": {
    "collapsed": true
   },
   "source": [
    "Finally, we use this new column as a mask, to select from the dataframe those rows to keep and the duplicate rows to remove"
   ]
  },
  {
   "cell_type": "code",
   "execution_count": 24,
   "metadata": {
    "collapsed": false
   },
   "outputs": [
    {
     "data": {
      "text/html": [
       "<div>\n",
       "<table border=\"1\" class=\"dataframe\">\n",
       "  <thead>\n",
       "    <tr style=\"text-align: right;\">\n",
       "      <th></th>\n",
       "      <th>id</th>\n",
       "      <th>Object</th>\n",
       "      <th>Title</th>\n",
       "      <th>Artist</th>\n",
       "      <th>ProductionDateEarliest</th>\n",
       "      <th>Place</th>\n",
       "    </tr>\n",
       "  </thead>\n",
       "  <tbody>\n",
       "    <tr>\n",
       "      <th>0</th>\n",
       "      <td>id</td>\n",
       "      <td>object</td>\n",
       "      <td>title</td>\n",
       "      <td>artist</td>\n",
       "      <td>year_start</td>\n",
       "      <td>place</td>\n",
       "    </tr>\n",
       "    <tr>\n",
       "      <th>1</th>\n",
       "      <td>O107238</td>\n",
       "      <td>Print</td>\n",
       "      <td>Slottizoo Panda</td>\n",
       "      <td>Richards, Clifford</td>\n",
       "      <td>1962</td>\n",
       "      <td>United Kingdom</td>\n",
       "    </tr>\n",
       "    <tr>\n",
       "      <th>2</th>\n",
       "      <td>O1160896</td>\n",
       "      <td>Sculpture</td>\n",
       "      <td>Bruised; Hi, Panda</td>\n",
       "      <td>Ji Ji</td>\n",
       "      <td>2007</td>\n",
       "      <td>Shanghai</td>\n",
       "    </tr>\n",
       "    <tr>\n",
       "      <th>5</th>\n",
       "      <td>O1261213</td>\n",
       "      <td>Toy panda</td>\n",
       "      <td>NaN</td>\n",
       "      <td>Steiff</td>\n",
       "      <td>1995</td>\n",
       "      <td>Germany</td>\n",
       "    </tr>\n",
       "    <tr>\n",
       "      <th>6</th>\n",
       "      <td>O242160</td>\n",
       "      <td>Poster</td>\n",
       "      <td>Wildscreen 90</td>\n",
       "      <td>Eckersley, Tom</td>\n",
       "      <td>1990</td>\n",
       "      <td>England</td>\n",
       "    </tr>\n",
       "  </tbody>\n",
       "</table>\n",
       "</div>"
      ],
      "text/plain": [
       "         id     Object               Title              Artist  \\\n",
       "0        id     object               title              artist   \n",
       "1   O107238      Print     Slottizoo Panda  Richards, Clifford   \n",
       "2  O1160896  Sculpture  Bruised; Hi, Panda               Ji Ji   \n",
       "5  O1261213  Toy panda                 NaN              Steiff   \n",
       "6   O242160     Poster       Wildscreen 90      Eckersley, Tom   \n",
       "\n",
       "  ProductionDateEarliest           Place  \n",
       "0             year_start           place  \n",
       "1                   1962  United Kingdom  \n",
       "2                   2007        Shanghai  \n",
       "5                   1995         Germany  \n",
       "6                   1990         England  "
      ]
     },
     "execution_count": 24,
     "metadata": {},
     "output_type": "execute_result"
    }
   ],
   "source": [
    "df_objects_nodup = df_objects[duplicates_mask]\n",
    "df_objects_nodup.head()"
   ]
  },
  {
   "cell_type": "markdown",
   "metadata": {},
   "source": [
    "Now we only have one object from 'Ji Ji'.\n",
    "\n",
    "As usual, we can compress all of the work down into a one liner:"
   ]
  },
  {
   "cell_type": "code",
   "execution_count": 27,
   "metadata": {
    "collapsed": false
   },
   "outputs": [
    {
     "data": {
      "text/plain": [
       "11"
      ]
     },
     "execution_count": 27,
     "metadata": {},
     "output_type": "execute_result"
    }
   ],
   "source": [
    "df_objects_oneliner = df_objects[~df_objects['Artist'].duplicated(keep='first')]\n",
    "len(df_objects_oneliner)"
   ]
  },
  {
   "cell_type": "markdown",
   "metadata": {},
   "source": [
    "(If you want to remove duplicates based on the index column, the following works)"
   ]
  },
  {
   "cell_type": "code",
   "execution_count": 28,
   "metadata": {
    "collapsed": false
   },
   "outputs": [
    {
     "data": {
      "text/plain": [
       "14"
      ]
     },
     "execution_count": 28,
     "metadata": {},
     "output_type": "execute_result"
    }
   ],
   "source": [
    "df_index_nodup = df_objects[~df_objects.index.duplicated(keep='first')]\n",
    "len(df_index_nodup)"
   ]
  },
  {
   "cell_type": "markdown",
   "metadata": {},
   "source": [
    "## Dealing with Dates\n",
    "\n",
    "Panda was created to deal with financial transactions, so the 64 bit datetime\n",
    "time can go to the microsecond from 1668 to ????. Whilst this may mean Pepy's\n",
    "diary can be covered in close detail, it's problematic to convert pre-1668 date strings to datetimes. The answer is to instead use the\n",
    "Period object, which can store the date and time values as year, month, day,\n",
    "hour minute, second (and microsecond). However, this does mean a comparative\n",
    "slowdown compared to using machine native datatypes.\n",
    "\n",
    "XXX Example Period usage\n",
    "\n",
    "XXX Something about PeriodIndex ?\n",
    "\n",
    "TODO"
   ]
  },
  {
   "cell_type": "markdown",
   "metadata": {},
   "source": [
    "## Filtering out unwanted values (isin)\n",
    "\n",
    "We can filter on columns, for example if we only want to see print objects:\n",
    "\n",
    "```\n",
    "drop_cats = ['internal_category', 'another_one']\n",
    "\n",
    "df = df[~df.category.isin(drop_cats)]\n",
    "```\n"
   ]
  },
  {
   "cell_type": "code",
   "execution_count": 30,
   "metadata": {
    "collapsed": false
   },
   "outputs": [
    {
     "data": {
      "text/html": [
       "<div>\n",
       "<table border=\"1\" class=\"dataframe\">\n",
       "  <thead>\n",
       "    <tr style=\"text-align: right;\">\n",
       "      <th></th>\n",
       "      <th>id</th>\n",
       "      <th>Object</th>\n",
       "      <th>Title</th>\n",
       "      <th>Artist</th>\n",
       "      <th>ProductionDateEarliest</th>\n",
       "      <th>Place</th>\n",
       "    </tr>\n",
       "  </thead>\n",
       "  <tbody>\n",
       "    <tr>\n",
       "      <th>6</th>\n",
       "      <td>O242160</td>\n",
       "      <td>Poster</td>\n",
       "      <td>Wildscreen 90</td>\n",
       "      <td>Eckersley, Tom</td>\n",
       "      <td>1990</td>\n",
       "      <td>England</td>\n",
       "    </tr>\n",
       "    <tr>\n",
       "      <th>7</th>\n",
       "      <td>O1157960</td>\n",
       "      <td>Poster</td>\n",
       "      <td>The Panda Man Film Party: On the occasion of t...</td>\n",
       "      <td>Unknown</td>\n",
       "      <td>2004</td>\n",
       "      <td>Shanghai</td>\n",
       "    </tr>\n",
       "    <tr>\n",
       "      <th>14</th>\n",
       "      <td>O109494</td>\n",
       "      <td>Poster</td>\n",
       "      <td>Uh-oh! Pandaman</td>\n",
       "      <td>Bandi, Zhao</td>\n",
       "      <td>2004</td>\n",
       "      <td>London</td>\n",
       "    </tr>\n",
       "  </tbody>\n",
       "</table>\n",
       "</div>"
      ],
      "text/plain": [
       "          id  Object                                              Title  \\\n",
       "6    O242160  Poster                                      Wildscreen 90   \n",
       "7   O1157960  Poster  The Panda Man Film Party: On the occasion of t...   \n",
       "14   O109494  Poster                                    Uh-oh! Pandaman   \n",
       "\n",
       "            Artist ProductionDateEarliest     Place  \n",
       "6   Eckersley, Tom                   1990   England  \n",
       "7          Unknown                   2004  Shanghai  \n",
       "14     Bandi, Zhao                   2004    London  "
      ]
     },
     "execution_count": 30,
     "metadata": {},
     "output_type": "execute_result"
    }
   ],
   "source": [
    "prints = df_objects[df_objects['Object'] == \"Poster\"]\n",
    "prints.head()"
   ]
  },
  {
   "cell_type": "markdown",
   "metadata": {},
   "source": [
    "We can filter on a list of values:"
   ]
  },
  {
   "cell_type": "code",
   "execution_count": 32,
   "metadata": {
    "collapsed": false
   },
   "outputs": [
    {
     "data": {
      "text/html": [
       "<div>\n",
       "<table border=\"1\" class=\"dataframe\">\n",
       "  <thead>\n",
       "    <tr style=\"text-align: right;\">\n",
       "      <th></th>\n",
       "      <th>id</th>\n",
       "      <th>Object</th>\n",
       "      <th>Title</th>\n",
       "      <th>Artist</th>\n",
       "      <th>ProductionDateEarliest</th>\n",
       "      <th>Place</th>\n",
       "    </tr>\n",
       "  </thead>\n",
       "  <tbody>\n",
       "    <tr>\n",
       "      <th>1</th>\n",
       "      <td>O107238</td>\n",
       "      <td>Print</td>\n",
       "      <td>Slottizoo Panda</td>\n",
       "      <td>Richards, Clifford</td>\n",
       "      <td>1962</td>\n",
       "      <td>United Kingdom</td>\n",
       "    </tr>\n",
       "    <tr>\n",
       "      <th>6</th>\n",
       "      <td>O242160</td>\n",
       "      <td>Poster</td>\n",
       "      <td>Wildscreen 90</td>\n",
       "      <td>Eckersley, Tom</td>\n",
       "      <td>1990</td>\n",
       "      <td>England</td>\n",
       "    </tr>\n",
       "    <tr>\n",
       "      <th>7</th>\n",
       "      <td>O1157960</td>\n",
       "      <td>Poster</td>\n",
       "      <td>The Panda Man Film Party: On the occasion of t...</td>\n",
       "      <td>Unknown</td>\n",
       "      <td>2004</td>\n",
       "      <td>Shanghai</td>\n",
       "    </tr>\n",
       "    <tr>\n",
       "      <th>14</th>\n",
       "      <td>O109494</td>\n",
       "      <td>Poster</td>\n",
       "      <td>Uh-oh! Pandaman</td>\n",
       "      <td>Bandi, Zhao</td>\n",
       "      <td>2004</td>\n",
       "      <td>London</td>\n",
       "    </tr>\n",
       "  </tbody>\n",
       "</table>\n",
       "</div>"
      ],
      "text/plain": [
       "          id  Object                                              Title  \\\n",
       "1    O107238   Print                                    Slottizoo Panda   \n",
       "6    O242160  Poster                                      Wildscreen 90   \n",
       "7   O1157960  Poster  The Panda Man Film Party: On the occasion of t...   \n",
       "14   O109494  Poster                                    Uh-oh! Pandaman   \n",
       "\n",
       "                Artist ProductionDateEarliest           Place  \n",
       "1   Richards, Clifford                   1962  United Kingdom  \n",
       "6       Eckersley, Tom                   1990         England  \n",
       "7              Unknown                   2004        Shanghai  \n",
       "14         Bandi, Zhao                   2004          London  "
      ]
     },
     "execution_count": 32,
     "metadata": {},
     "output_type": "execute_result"
    }
   ],
   "source": [
    "object_types = ['Poster', 'Print']\n",
    "prints_and_posters = df_objects[df_objects.Object.isin(object_types)]\n",
    "prints_and_posters.head()"
   ]
  },
  {
   "cell_type": "markdown",
   "metadata": {},
   "source": [
    "Alternatively, we can keep everything that doesn't match:"
   ]
  },
  {
   "cell_type": "code",
   "execution_count": 34,
   "metadata": {
    "collapsed": false
   },
   "outputs": [
    {
     "data": {
      "text/html": [
       "<div>\n",
       "<table border=\"1\" class=\"dataframe\">\n",
       "  <thead>\n",
       "    <tr style=\"text-align: right;\">\n",
       "      <th></th>\n",
       "      <th>id</th>\n",
       "      <th>Object</th>\n",
       "      <th>Title</th>\n",
       "      <th>Artist</th>\n",
       "      <th>ProductionDateEarliest</th>\n",
       "      <th>Place</th>\n",
       "    </tr>\n",
       "  </thead>\n",
       "  <tbody>\n",
       "    <tr>\n",
       "      <th>0</th>\n",
       "      <td>id</td>\n",
       "      <td>object</td>\n",
       "      <td>title</td>\n",
       "      <td>artist</td>\n",
       "      <td>year_start</td>\n",
       "      <td>place</td>\n",
       "    </tr>\n",
       "    <tr>\n",
       "      <th>2</th>\n",
       "      <td>O1160896</td>\n",
       "      <td>Sculpture</td>\n",
       "      <td>Bruised; Hi, Panda</td>\n",
       "      <td>Ji Ji</td>\n",
       "      <td>2007</td>\n",
       "      <td>Shanghai</td>\n",
       "    </tr>\n",
       "    <tr>\n",
       "      <th>3</th>\n",
       "      <td>O1177172</td>\n",
       "      <td>Sculpture</td>\n",
       "      <td>Smiley; Hi, Panda</td>\n",
       "      <td>Ji Ji</td>\n",
       "      <td>2007</td>\n",
       "      <td>Shanghai</td>\n",
       "    </tr>\n",
       "    <tr>\n",
       "      <th>4</th>\n",
       "      <td>O1177173</td>\n",
       "      <td>Sculpture</td>\n",
       "      <td>Angry; Hi, Panda</td>\n",
       "      <td>Ji Ji</td>\n",
       "      <td>2007</td>\n",
       "      <td>Shanghai</td>\n",
       "    </tr>\n",
       "    <tr>\n",
       "      <th>5</th>\n",
       "      <td>O1261213</td>\n",
       "      <td>Toy panda</td>\n",
       "      <td>NaN</td>\n",
       "      <td>Steiff</td>\n",
       "      <td>1995</td>\n",
       "      <td>Germany</td>\n",
       "    </tr>\n",
       "  </tbody>\n",
       "</table>\n",
       "</div>"
      ],
      "text/plain": [
       "         id     Object               Title  Artist ProductionDateEarliest  \\\n",
       "0        id     object               title  artist             year_start   \n",
       "2  O1160896  Sculpture  Bruised; Hi, Panda   Ji Ji                   2007   \n",
       "3  O1177172  Sculpture   Smiley; Hi, Panda   Ji Ji                   2007   \n",
       "4  O1177173  Sculpture    Angry; Hi, Panda   Ji Ji                   2007   \n",
       "5  O1261213  Toy panda                 NaN  Steiff                   1995   \n",
       "\n",
       "      Place  \n",
       "0     place  \n",
       "2  Shanghai  \n",
       "3  Shanghai  \n",
       "4  Shanghai  \n",
       "5   Germany  "
      ]
     },
     "execution_count": 34,
     "metadata": {},
     "output_type": "execute_result"
    }
   ],
   "source": [
    "object_types = ['Poster', 'Print']\n",
    "non_prints_and_posters = df_objects[~df_objects.Object.isin(object_types)]\n",
    "non_prints_and_posters.head()"
   ]
  },
  {
   "cell_type": "markdown",
   "metadata": {},
   "source": [
    "## Renaming columns\n",
    "\n",
    "Columns in a dataframe can be easily renamed:\n",
    "\n",
    "df.columns = ['ColA', 'ColB', 'ColC']\n"
   ]
  },
  {
   "cell_type": "code",
   "execution_count": 35,
   "metadata": {
    "collapsed": false
   },
   "outputs": [
    {
     "data": {
      "text/html": [
       "<div>\n",
       "<table border=\"1\" class=\"dataframe\">\n",
       "  <thead>\n",
       "    <tr style=\"text-align: right;\">\n",
       "      <th></th>\n",
       "      <th>VAMID</th>\n",
       "      <th>a</th>\n",
       "      <th>b</th>\n",
       "      <th>c</th>\n",
       "      <th>d</th>\n",
       "      <th>e</th>\n",
       "    </tr>\n",
       "  </thead>\n",
       "  <tbody>\n",
       "    <tr>\n",
       "      <th>0</th>\n",
       "      <td>id</td>\n",
       "      <td>object</td>\n",
       "      <td>title</td>\n",
       "      <td>artist</td>\n",
       "      <td>year_start</td>\n",
       "      <td>place</td>\n",
       "    </tr>\n",
       "    <tr>\n",
       "      <th>1</th>\n",
       "      <td>O107238</td>\n",
       "      <td>Print</td>\n",
       "      <td>Slottizoo Panda</td>\n",
       "      <td>Richards, Clifford</td>\n",
       "      <td>1962</td>\n",
       "      <td>United Kingdom</td>\n",
       "    </tr>\n",
       "    <tr>\n",
       "      <th>2</th>\n",
       "      <td>O1160896</td>\n",
       "      <td>Sculpture</td>\n",
       "      <td>Bruised; Hi, Panda</td>\n",
       "      <td>Ji Ji</td>\n",
       "      <td>2007</td>\n",
       "      <td>Shanghai</td>\n",
       "    </tr>\n",
       "    <tr>\n",
       "      <th>3</th>\n",
       "      <td>O1177172</td>\n",
       "      <td>Sculpture</td>\n",
       "      <td>Smiley; Hi, Panda</td>\n",
       "      <td>Ji Ji</td>\n",
       "      <td>2007</td>\n",
       "      <td>Shanghai</td>\n",
       "    </tr>\n",
       "    <tr>\n",
       "      <th>4</th>\n",
       "      <td>O1177173</td>\n",
       "      <td>Sculpture</td>\n",
       "      <td>Angry; Hi, Panda</td>\n",
       "      <td>Ji Ji</td>\n",
       "      <td>2007</td>\n",
       "      <td>Shanghai</td>\n",
       "    </tr>\n",
       "  </tbody>\n",
       "</table>\n",
       "</div>"
      ],
      "text/plain": [
       "      VAMID          a                   b                   c           d  \\\n",
       "0        id     object               title              artist  year_start   \n",
       "1   O107238      Print     Slottizoo Panda  Richards, Clifford        1962   \n",
       "2  O1160896  Sculpture  Bruised; Hi, Panda               Ji Ji        2007   \n",
       "3  O1177172  Sculpture   Smiley; Hi, Panda               Ji Ji        2007   \n",
       "4  O1177173  Sculpture    Angry; Hi, Panda               Ji Ji        2007   \n",
       "\n",
       "                e  \n",
       "0           place  \n",
       "1  United Kingdom  \n",
       "2        Shanghai  \n",
       "3        Shanghai  \n",
       "4        Shanghai  "
      ]
     },
     "execution_count": 35,
     "metadata": {},
     "output_type": "execute_result"
    }
   ],
   "source": [
    "df_objects.columns = ['VAMID', 'a', 'b', 'c', 'd', 'e']\n",
    "df_objects.head()"
   ]
  },
  {
   "cell_type": "markdown",
   "metadata": {},
   "source": [
    "# Worked Example: Joining two collection datasets\n",
    "\n",
    "At this point, we have enough Panda Fu (sorry) to start being able to do some\n",
    "interesting data processing. Let's use two museum collections data sets\n",
    "made available via CSV and JSON on GitHub (to avoid having to bulk download them\n",
    "via an API). The data sets contain overlapping details for artists in\n",
    "both collections, with similiar (but not identical!) columns for artist names,\n",
    "birth/death etc. Let's try to join the datasets on the artist name, and pull\n",
    "put two relevant columns from each dataset.\n",
    "\n",
    "(TODO curl to get from Git)\n",
    "\n",
    "The Tate dataset has the following fields:\n",
    "\n",
    "    id,name,gender,dates,yearOfBirth,yearOfDeath,placeOfBirth,placeOfDeath,url\n",
    "\n",
    "and MoMa has:\n",
    "\n",
    "    ConstituentID,DisplayName,ArtistBio,Nationality,Gender,BeginDate,EndDate,Wiki QID,ULAN\n",
    "    \n",
    "    \n"
   ]
  },
  {
   "cell_type": "code",
   "execution_count": 36,
   "metadata": {
    "collapsed": false
   },
   "outputs": [
    {
     "data": {
      "text/html": [
       "<div>\n",
       "<table border=\"1\" class=\"dataframe\">\n",
       "  <thead>\n",
       "    <tr style=\"text-align: right;\">\n",
       "      <th></th>\n",
       "      <th>﻿id</th>\n",
       "      <th>name</th>\n",
       "      <th>gender</th>\n",
       "      <th>dates</th>\n",
       "      <th>yearOfBirth</th>\n",
       "      <th>yearOfDeath</th>\n",
       "      <th>placeOfBirth</th>\n",
       "      <th>placeOfDeath</th>\n",
       "      <th>url</th>\n",
       "    </tr>\n",
       "  </thead>\n",
       "  <tbody>\n",
       "    <tr>\n",
       "      <th>0</th>\n",
       "      <td>10093</td>\n",
       "      <td>Abakanowicz, Magdalena</td>\n",
       "      <td>Female</td>\n",
       "      <td>born 1930</td>\n",
       "      <td>1930.0</td>\n",
       "      <td>NaN</td>\n",
       "      <td>Polska</td>\n",
       "      <td>NaN</td>\n",
       "      <td>http://www.tate.org.uk/art/artists/magdalena-a...</td>\n",
       "    </tr>\n",
       "    <tr>\n",
       "      <th>1</th>\n",
       "      <td>0</td>\n",
       "      <td>Abbey, Edwin Austin</td>\n",
       "      <td>Male</td>\n",
       "      <td>1852–1911</td>\n",
       "      <td>1852.0</td>\n",
       "      <td>1911.0</td>\n",
       "      <td>Philadelphia, United States</td>\n",
       "      <td>London, United Kingdom</td>\n",
       "      <td>http://www.tate.org.uk/art/artists/edwin-austi...</td>\n",
       "    </tr>\n",
       "    <tr>\n",
       "      <th>2</th>\n",
       "      <td>2756</td>\n",
       "      <td>Abbott, Berenice</td>\n",
       "      <td>Female</td>\n",
       "      <td>1898–1991</td>\n",
       "      <td>1898.0</td>\n",
       "      <td>1991.0</td>\n",
       "      <td>Springfield, United States</td>\n",
       "      <td>Monson, United States</td>\n",
       "      <td>http://www.tate.org.uk/art/artists/berenice-ab...</td>\n",
       "    </tr>\n",
       "  </tbody>\n",
       "</table>\n",
       "</div>"
      ],
      "text/plain": [
       "     ﻿id                    name  gender      dates  yearOfBirth  yearOfDeath  \\\n",
       "0  10093  Abakanowicz, Magdalena  Female  born 1930       1930.0          NaN   \n",
       "1      0     Abbey, Edwin Austin    Male  1852–1911       1852.0       1911.0   \n",
       "2   2756        Abbott, Berenice  Female  1898–1991       1898.0       1991.0   \n",
       "\n",
       "                  placeOfBirth            placeOfDeath  \\\n",
       "0                       Polska                     NaN   \n",
       "1  Philadelphia, United States  London, United Kingdom   \n",
       "2   Springfield, United States   Monson, United States   \n",
       "\n",
       "                                                 url  \n",
       "0  http://www.tate.org.uk/art/artists/magdalena-a...  \n",
       "1  http://www.tate.org.uk/art/artists/edwin-austi...  \n",
       "2  http://www.tate.org.uk/art/artists/berenice-ab...  "
      ]
     },
     "execution_count": 36,
     "metadata": {},
     "output_type": "execute_result"
    }
   ],
   "source": [
    "    df_tate = pd.read_csv(\"artist_data.csv\")\n",
    "    df_tate.head(3)"
   ]
  },
  {
   "cell_type": "markdown",
   "metadata": {},
   "source": [
    "We can immediately see a problem with the yearofBirth/yearOfDeath fields, they've been parsed\n",
    "as a floating number rather than an integer as we would expect. This is\n",
    "because Pandas cannot represent Not-a-Number (i.e. an unknown year) as an\n",
    "integer (see [here](http://pandas.pydata.org/pandas-docs/stable/gotchas.html#nan-integer-na-values-and-na-type-promotions)) so instead it converts it to an integer.\n",
    "\n",
    "We can fix this by replacing the NaN float64 values with 0.0 and then converting\n",
    "the column to integers"
   ]
  },
  {
   "cell_type": "code",
   "execution_count": 37,
   "metadata": {
    "collapsed": false
   },
   "outputs": [
    {
     "data": {
      "text/html": [
       "<div>\n",
       "<table border=\"1\" class=\"dataframe\">\n",
       "  <thead>\n",
       "    <tr style=\"text-align: right;\">\n",
       "      <th></th>\n",
       "      <th>﻿id</th>\n",
       "      <th>name</th>\n",
       "      <th>gender</th>\n",
       "      <th>dates</th>\n",
       "      <th>yearOfBirth</th>\n",
       "      <th>yearOfDeath</th>\n",
       "      <th>placeOfBirth</th>\n",
       "      <th>placeOfDeath</th>\n",
       "      <th>url</th>\n",
       "    </tr>\n",
       "  </thead>\n",
       "  <tbody>\n",
       "    <tr>\n",
       "      <th>0</th>\n",
       "      <td>10093</td>\n",
       "      <td>Abakanowicz, Magdalena</td>\n",
       "      <td>Female</td>\n",
       "      <td>born 1930</td>\n",
       "      <td>1930</td>\n",
       "      <td>0</td>\n",
       "      <td>Polska</td>\n",
       "      <td>NaN</td>\n",
       "      <td>http://www.tate.org.uk/art/artists/magdalena-a...</td>\n",
       "    </tr>\n",
       "    <tr>\n",
       "      <th>1</th>\n",
       "      <td>0</td>\n",
       "      <td>Abbey, Edwin Austin</td>\n",
       "      <td>Male</td>\n",
       "      <td>1852–1911</td>\n",
       "      <td>1852</td>\n",
       "      <td>1911</td>\n",
       "      <td>Philadelphia, United States</td>\n",
       "      <td>London, United Kingdom</td>\n",
       "      <td>http://www.tate.org.uk/art/artists/edwin-austi...</td>\n",
       "    </tr>\n",
       "    <tr>\n",
       "      <th>2</th>\n",
       "      <td>2756</td>\n",
       "      <td>Abbott, Berenice</td>\n",
       "      <td>Female</td>\n",
       "      <td>1898–1991</td>\n",
       "      <td>1898</td>\n",
       "      <td>1991</td>\n",
       "      <td>Springfield, United States</td>\n",
       "      <td>Monson, United States</td>\n",
       "      <td>http://www.tate.org.uk/art/artists/berenice-ab...</td>\n",
       "    </tr>\n",
       "  </tbody>\n",
       "</table>\n",
       "</div>"
      ],
      "text/plain": [
       "     ﻿id                    name  gender      dates  yearOfBirth  yearOfDeath  \\\n",
       "0  10093  Abakanowicz, Magdalena  Female  born 1930         1930            0   \n",
       "1      0     Abbey, Edwin Austin    Male  1852–1911         1852         1911   \n",
       "2   2756        Abbott, Berenice  Female  1898–1991         1898         1991   \n",
       "\n",
       "                  placeOfBirth            placeOfDeath  \\\n",
       "0                       Polska                     NaN   \n",
       "1  Philadelphia, United States  London, United Kingdom   \n",
       "2   Springfield, United States   Monson, United States   \n",
       "\n",
       "                                                 url  \n",
       "0  http://www.tate.org.uk/art/artists/magdalena-a...  \n",
       "1  http://www.tate.org.uk/art/artists/edwin-austi...  \n",
       "2  http://www.tate.org.uk/art/artists/berenice-ab...  "
      ]
     },
     "execution_count": 37,
     "metadata": {},
     "output_type": "execute_result"
    }
   ],
   "source": [
    "df_tate['yearOfBirth'].fillna(0, inplace=True)\n",
    "df_tate['yearOfBirth'] = df_tate['yearOfBirth'].astype(int)\n",
    "\n",
    "df_tate['yearOfDeath'].fillna(0, inplace=True)\n",
    "df_tate['yearOfDeath'] = df_tate['yearOfDeath'].astype(int)\n",
    "\n",
    "df_tate.head(3)\n"
   ]
  },
  {
   "cell_type": "markdown",
   "metadata": {
    "collapsed": true
   },
   "source": [
    "Next we read in the MoMa data:\n",
    "\n",
    "And looking at the them both:\n",
    "\n",
    "    df_tate.head()\n",
    "\n",
    "    df_moma.head()\n",
    "\n",
    "we can see we have a problem with joining on artist names; in the Tate data\n",
    "names are given in the form \"Surname, Firstname\", whereas MoMa uses \"Firstname\n",
    "Surname\". Let's do a simple reverse (which will not work for all cases\n",
    "like \"Barret, George, Junior\", we'll ignore that for now) and apply that\n",
    "to the name column in the Tate dataset to create a new column from it\n"
   ]
  },
  {
   "cell_type": "code",
   "execution_count": 38,
   "metadata": {
    "collapsed": false
   },
   "outputs": [
    {
     "data": {
      "text/html": [
       "<div>\n",
       "<table border=\"1\" class=\"dataframe\">\n",
       "  <thead>\n",
       "    <tr style=\"text-align: right;\">\n",
       "      <th></th>\n",
       "      <th>﻿ConstituentID</th>\n",
       "      <th>DisplayName</th>\n",
       "      <th>ArtistBio</th>\n",
       "      <th>Nationality</th>\n",
       "      <th>Gender</th>\n",
       "      <th>BeginDate</th>\n",
       "      <th>EndDate</th>\n",
       "      <th>Wiki QID</th>\n",
       "      <th>ULAN</th>\n",
       "    </tr>\n",
       "  </thead>\n",
       "  <tbody>\n",
       "    <tr>\n",
       "      <th>0</th>\n",
       "      <td>1</td>\n",
       "      <td>Robert Arneson</td>\n",
       "      <td>American, 1930–1992</td>\n",
       "      <td>American</td>\n",
       "      <td>Male</td>\n",
       "      <td>1930</td>\n",
       "      <td>1992</td>\n",
       "      <td>NaN</td>\n",
       "      <td>NaN</td>\n",
       "    </tr>\n",
       "    <tr>\n",
       "      <th>1</th>\n",
       "      <td>2</td>\n",
       "      <td>Doroteo Arnaiz</td>\n",
       "      <td>Spanish, born 1936</td>\n",
       "      <td>Spanish</td>\n",
       "      <td>Male</td>\n",
       "      <td>1936</td>\n",
       "      <td>0</td>\n",
       "      <td>NaN</td>\n",
       "      <td>NaN</td>\n",
       "    </tr>\n",
       "    <tr>\n",
       "      <th>2</th>\n",
       "      <td>3</td>\n",
       "      <td>Bill Arnold</td>\n",
       "      <td>American, born 1941</td>\n",
       "      <td>American</td>\n",
       "      <td>Male</td>\n",
       "      <td>1941</td>\n",
       "      <td>0</td>\n",
       "      <td>NaN</td>\n",
       "      <td>NaN</td>\n",
       "    </tr>\n",
       "  </tbody>\n",
       "</table>\n",
       "</div>"
      ],
      "text/plain": [
       "   ﻿ConstituentID     DisplayName            ArtistBio Nationality Gender  \\\n",
       "0               1  Robert Arneson  American, 1930–1992    American   Male   \n",
       "1               2  Doroteo Arnaiz   Spanish, born 1936     Spanish   Male   \n",
       "2               3     Bill Arnold  American, born 1941    American   Male   \n",
       "\n",
       "   BeginDate  EndDate Wiki QID  ULAN  \n",
       "0       1930     1992      NaN   NaN  \n",
       "1       1936        0      NaN   NaN  \n",
       "2       1941        0      NaN   NaN  "
      ]
     },
     "execution_count": 38,
     "metadata": {},
     "output_type": "execute_result"
    }
   ],
   "source": [
    "df_moma = pd.read_csv(\"Artists.csv\")\n",
    "df_moma.head(3)"
   ]
  },
  {
   "cell_type": "markdown",
   "metadata": {},
   "source": [
    "We can see we have a problem with joining on artist names; in the Tate data\n",
    "names are given in the form \"Surname, Firstname\", whereas MoMa uses \"Firstname\n",
    "Surname\". Let's do a simple reverse (which will not work for all cases\n",
    "like \"Barret, George, Junior\", we'll ignore that for now) and apply that\n",
    "to the name column in the Tate dataset to create a new column from it"
   ]
  },
  {
   "cell_type": "code",
   "execution_count": 39,
   "metadata": {
    "collapsed": false
   },
   "outputs": [
    {
     "data": {
      "text/html": [
       "<div>\n",
       "<table border=\"1\" class=\"dataframe\">\n",
       "  <thead>\n",
       "    <tr style=\"text-align: right;\">\n",
       "      <th></th>\n",
       "      <th>﻿id</th>\n",
       "      <th>name</th>\n",
       "      <th>gender</th>\n",
       "      <th>dates</th>\n",
       "      <th>yearOfBirth</th>\n",
       "      <th>yearOfDeath</th>\n",
       "      <th>placeOfBirth</th>\n",
       "      <th>placeOfDeath</th>\n",
       "      <th>url</th>\n",
       "      <th>name2</th>\n",
       "    </tr>\n",
       "  </thead>\n",
       "  <tbody>\n",
       "    <tr>\n",
       "      <th>0</th>\n",
       "      <td>10093</td>\n",
       "      <td>Abakanowicz, Magdalena</td>\n",
       "      <td>Female</td>\n",
       "      <td>born 1930</td>\n",
       "      <td>1930</td>\n",
       "      <td>0</td>\n",
       "      <td>Polska</td>\n",
       "      <td>NaN</td>\n",
       "      <td>http://www.tate.org.uk/art/artists/magdalena-a...</td>\n",
       "      <td>Magdalena Abakanowicz</td>\n",
       "    </tr>\n",
       "    <tr>\n",
       "      <th>1</th>\n",
       "      <td>0</td>\n",
       "      <td>Abbey, Edwin Austin</td>\n",
       "      <td>Male</td>\n",
       "      <td>1852–1911</td>\n",
       "      <td>1852</td>\n",
       "      <td>1911</td>\n",
       "      <td>Philadelphia, United States</td>\n",
       "      <td>London, United Kingdom</td>\n",
       "      <td>http://www.tate.org.uk/art/artists/edwin-austi...</td>\n",
       "      <td>Edwin Austin Abbey</td>\n",
       "    </tr>\n",
       "    <tr>\n",
       "      <th>2</th>\n",
       "      <td>2756</td>\n",
       "      <td>Abbott, Berenice</td>\n",
       "      <td>Female</td>\n",
       "      <td>1898–1991</td>\n",
       "      <td>1898</td>\n",
       "      <td>1991</td>\n",
       "      <td>Springfield, United States</td>\n",
       "      <td>Monson, United States</td>\n",
       "      <td>http://www.tate.org.uk/art/artists/berenice-ab...</td>\n",
       "      <td>Berenice Abbott</td>\n",
       "    </tr>\n",
       "  </tbody>\n",
       "</table>\n",
       "</div>"
      ],
      "text/plain": [
       "     ﻿id                    name  gender      dates  yearOfBirth  yearOfDeath  \\\n",
       "0  10093  Abakanowicz, Magdalena  Female  born 1930         1930            0   \n",
       "1      0     Abbey, Edwin Austin    Male  1852–1911         1852         1911   \n",
       "2   2756        Abbott, Berenice  Female  1898–1991         1898         1991   \n",
       "\n",
       "                  placeOfBirth            placeOfDeath  \\\n",
       "0                       Polska                     NaN   \n",
       "1  Philadelphia, United States  London, United Kingdom   \n",
       "2   Springfield, United States   Monson, United States   \n",
       "\n",
       "                                                 url                  name2  \n",
       "0  http://www.tate.org.uk/art/artists/magdalena-a...  Magdalena Abakanowicz  \n",
       "1  http://www.tate.org.uk/art/artists/edwin-austi...     Edwin Austin Abbey  \n",
       "2  http://www.tate.org.uk/art/artists/berenice-ab...        Berenice Abbott  "
      ]
     },
     "execution_count": 39,
     "metadata": {},
     "output_type": "execute_result"
    }
   ],
   "source": [
    "df_tate['name2'] = df_tate['name'].apply(lambda x: \" \".join(x.split(\", \")[::-1]))\n",
    "df_tate.head(3)"
   ]
  },
  {
   "cell_type": "markdown",
   "metadata": {},
   "source": [
    "which mostly works, except for some values that should have been ignored e.g.\n",
    "\n",
    "    \"Young-Hae Chang Heavy Industries (Young-Hae Chang, Marc Voge)\"\n",
    "\n",
    "will become:\n",
    "\n",
    "    Marc Voge) Young-Hae Chang Heavy Industries (Young-Hae Chang\n"
   ]
  },
  {
   "cell_type": "markdown",
   "metadata": {},
   "source": [
    "But for the moment we will ignore this.\n",
    "\n",
    "We now have two datasets with an artist name column that should, mostly serve\n",
    "as a join key. However, there are still variations in spelling/spacing/etc\n",
    "that will reduce the name of matches if we just do a simple string equality\n",
    "test. So instead we'll use python's built in (via difflib) get_close_matches\n",
    "function, which given a string and an list of strings, returns the closest\n",
    "matches:"
   ]
  },
  {
   "cell_type": "code",
   "execution_count": 40,
   "metadata": {
    "collapsed": false
   },
   "outputs": [
    {
     "data": {
      "text/html": [
       "<div>\n",
       "<table border=\"1\" class=\"dataframe\">\n",
       "  <thead>\n",
       "    <tr style=\"text-align: right;\">\n",
       "      <th></th>\n",
       "      <th>﻿id</th>\n",
       "      <th>name</th>\n",
       "      <th>gender</th>\n",
       "      <th>dates</th>\n",
       "      <th>yearOfBirth</th>\n",
       "      <th>yearOfDeath</th>\n",
       "      <th>placeOfBirth</th>\n",
       "      <th>placeOfDeath</th>\n",
       "      <th>url</th>\n",
       "      <th>name2</th>\n",
       "    </tr>\n",
       "  </thead>\n",
       "  <tbody>\n",
       "    <tr>\n",
       "      <th>0</th>\n",
       "      <td>10093</td>\n",
       "      <td>Abakanowicz, Magdalena</td>\n",
       "      <td>Female</td>\n",
       "      <td>born 1930</td>\n",
       "      <td>1930</td>\n",
       "      <td>0</td>\n",
       "      <td>Polska</td>\n",
       "      <td>NaN</td>\n",
       "      <td>http://www.tate.org.uk/art/artists/magdalena-a...</td>\n",
       "      <td>Magdalena Abakanowicz</td>\n",
       "    </tr>\n",
       "    <tr>\n",
       "      <th>1</th>\n",
       "      <td>0</td>\n",
       "      <td>Abbey, Edwin Austin</td>\n",
       "      <td>Male</td>\n",
       "      <td>1852–1911</td>\n",
       "      <td>1852</td>\n",
       "      <td>1911</td>\n",
       "      <td>Philadelphia, United States</td>\n",
       "      <td>London, United Kingdom</td>\n",
       "      <td>http://www.tate.org.uk/art/artists/edwin-austi...</td>\n",
       "      <td>N/A</td>\n",
       "    </tr>\n",
       "    <tr>\n",
       "      <th>2</th>\n",
       "      <td>2756</td>\n",
       "      <td>Abbott, Berenice</td>\n",
       "      <td>Female</td>\n",
       "      <td>1898–1991</td>\n",
       "      <td>1898</td>\n",
       "      <td>1991</td>\n",
       "      <td>Springfield, United States</td>\n",
       "      <td>Monson, United States</td>\n",
       "      <td>http://www.tate.org.uk/art/artists/berenice-ab...</td>\n",
       "      <td>Berenice Abbott</td>\n",
       "    </tr>\n",
       "    <tr>\n",
       "      <th>3</th>\n",
       "      <td>1</td>\n",
       "      <td>Abbott, Lemuel Francis</td>\n",
       "      <td>Male</td>\n",
       "      <td>1760–1803</td>\n",
       "      <td>1760</td>\n",
       "      <td>1803</td>\n",
       "      <td>Leicestershire, United Kingdom</td>\n",
       "      <td>London, United Kingdom</td>\n",
       "      <td>http://www.tate.org.uk/art/artists/lemuel-fran...</td>\n",
       "      <td>N/A</td>\n",
       "    </tr>\n",
       "    <tr>\n",
       "      <th>4</th>\n",
       "      <td>622</td>\n",
       "      <td>Abrahams, Ivor</td>\n",
       "      <td>Male</td>\n",
       "      <td>born 1935</td>\n",
       "      <td>1935</td>\n",
       "      <td>0</td>\n",
       "      <td>Wigan, United Kingdom</td>\n",
       "      <td>NaN</td>\n",
       "      <td>http://www.tate.org.uk/art/artists/ivor-abraha...</td>\n",
       "      <td>Ivor Abrahams</td>\n",
       "    </tr>\n",
       "  </tbody>\n",
       "</table>\n",
       "</div>"
      ],
      "text/plain": [
       "     ﻿id                    name  gender      dates  yearOfBirth  yearOfDeath  \\\n",
       "0  10093  Abakanowicz, Magdalena  Female  born 1930         1930            0   \n",
       "1      0     Abbey, Edwin Austin    Male  1852–1911         1852         1911   \n",
       "2   2756        Abbott, Berenice  Female  1898–1991         1898         1991   \n",
       "3      1  Abbott, Lemuel Francis    Male  1760–1803         1760         1803   \n",
       "4    622          Abrahams, Ivor    Male  born 1935         1935            0   \n",
       "\n",
       "                     placeOfBirth            placeOfDeath  \\\n",
       "0                          Polska                     NaN   \n",
       "1     Philadelphia, United States  London, United Kingdom   \n",
       "2      Springfield, United States   Monson, United States   \n",
       "3  Leicestershire, United Kingdom  London, United Kingdom   \n",
       "4           Wigan, United Kingdom                     NaN   \n",
       "\n",
       "                                                 url                  name2  \n",
       "0  http://www.tate.org.uk/art/artists/magdalena-a...  Magdalena Abakanowicz  \n",
       "1  http://www.tate.org.uk/art/artists/edwin-austi...                    N/A  \n",
       "2  http://www.tate.org.uk/art/artists/berenice-ab...        Berenice Abbott  \n",
       "3  http://www.tate.org.uk/art/artists/lemuel-fran...                    N/A  \n",
       "4  http://www.tate.org.uk/art/artists/ivor-abraha...          Ivor Abrahams  "
      ]
     },
     "execution_count": 40,
     "metadata": {},
     "output_type": "execute_result"
    }
   ],
   "source": [
    "import difflib\n",
    "    \n",
    "def close_match(name):\n",
    " matches = difflib.get_close_matches(name, df_moma['DisplayName'], cutoff=0.9)\n",
    " if len(matches) > 0:\n",
    "  return matches[0]\n",
    " else:\n",
    "  return \"N/A\"\n",
    "    \n",
    "df_tate['name2'] = df_tate['name2'].apply(lambda x: close_match(x))\n",
    "\n",
    "df_tate.head()"
   ]
  },
  {
   "cell_type": "code",
   "execution_count": 41,
   "metadata": {
    "collapsed": false
   },
   "outputs": [
    {
     "data": {
      "text/plain": [
       "3532"
      ]
     },
     "execution_count": 41,
     "metadata": {},
     "output_type": "execute_result"
    }
   ],
   "source": [
    "len(df_tate)"
   ]
  },
  {
   "cell_type": "markdown",
   "metadata": {},
   "source": [
    "The cutoff value is how far away from the original string matches will be\n",
    "founf (based on ??). Lowering this will find more matches but potenitally\n",
    "incorrect. A superior algorithm would be based on understanding of name\n",
    "stemming)\n",
    "\n",
    "(this is very slow as it keeps rescanning the list for every row. Suggestions\n",
    "for improvement welcome.)\n",
    "\n",
    "and then remove anything that didn't return any matches:\n",
    "\n",
    "    df_tate.dropna(subset=['name2'], inplace=True)\n"
   ]
  },
  {
   "cell_type": "code",
   "execution_count": 42,
   "metadata": {
    "collapsed": false
   },
   "outputs": [
    {
     "data": {
      "text/html": [
       "<div>\n",
       "<table border=\"1\" class=\"dataframe\">\n",
       "  <thead>\n",
       "    <tr style=\"text-align: right;\">\n",
       "      <th></th>\n",
       "      <th>﻿id</th>\n",
       "      <th>name</th>\n",
       "      <th>gender</th>\n",
       "      <th>dates</th>\n",
       "      <th>yearOfBirth</th>\n",
       "      <th>yearOfDeath</th>\n",
       "      <th>placeOfBirth</th>\n",
       "      <th>placeOfDeath</th>\n",
       "      <th>url</th>\n",
       "      <th>name2</th>\n",
       "    </tr>\n",
       "  </thead>\n",
       "  <tbody>\n",
       "    <tr>\n",
       "      <th>0</th>\n",
       "      <td>10093</td>\n",
       "      <td>Abakanowicz, Magdalena</td>\n",
       "      <td>Female</td>\n",
       "      <td>born 1930</td>\n",
       "      <td>1930</td>\n",
       "      <td>0</td>\n",
       "      <td>Polska</td>\n",
       "      <td>NaN</td>\n",
       "      <td>http://www.tate.org.uk/art/artists/magdalena-a...</td>\n",
       "      <td>Magdalena Abakanowicz</td>\n",
       "    </tr>\n",
       "    <tr>\n",
       "      <th>1</th>\n",
       "      <td>0</td>\n",
       "      <td>Abbey, Edwin Austin</td>\n",
       "      <td>Male</td>\n",
       "      <td>1852–1911</td>\n",
       "      <td>1852</td>\n",
       "      <td>1911</td>\n",
       "      <td>Philadelphia, United States</td>\n",
       "      <td>London, United Kingdom</td>\n",
       "      <td>http://www.tate.org.uk/art/artists/edwin-austi...</td>\n",
       "      <td>N/A</td>\n",
       "    </tr>\n",
       "    <tr>\n",
       "      <th>2</th>\n",
       "      <td>2756</td>\n",
       "      <td>Abbott, Berenice</td>\n",
       "      <td>Female</td>\n",
       "      <td>1898–1991</td>\n",
       "      <td>1898</td>\n",
       "      <td>1991</td>\n",
       "      <td>Springfield, United States</td>\n",
       "      <td>Monson, United States</td>\n",
       "      <td>http://www.tate.org.uk/art/artists/berenice-ab...</td>\n",
       "      <td>Berenice Abbott</td>\n",
       "    </tr>\n",
       "    <tr>\n",
       "      <th>3</th>\n",
       "      <td>1</td>\n",
       "      <td>Abbott, Lemuel Francis</td>\n",
       "      <td>Male</td>\n",
       "      <td>1760–1803</td>\n",
       "      <td>1760</td>\n",
       "      <td>1803</td>\n",
       "      <td>Leicestershire, United Kingdom</td>\n",
       "      <td>London, United Kingdom</td>\n",
       "      <td>http://www.tate.org.uk/art/artists/lemuel-fran...</td>\n",
       "      <td>N/A</td>\n",
       "    </tr>\n",
       "    <tr>\n",
       "      <th>4</th>\n",
       "      <td>622</td>\n",
       "      <td>Abrahams, Ivor</td>\n",
       "      <td>Male</td>\n",
       "      <td>born 1935</td>\n",
       "      <td>1935</td>\n",
       "      <td>0</td>\n",
       "      <td>Wigan, United Kingdom</td>\n",
       "      <td>NaN</td>\n",
       "      <td>http://www.tate.org.uk/art/artists/ivor-abraha...</td>\n",
       "      <td>Ivor Abrahams</td>\n",
       "    </tr>\n",
       "  </tbody>\n",
       "</table>\n",
       "</div>"
      ],
      "text/plain": [
       "     ﻿id                    name  gender      dates  yearOfBirth  yearOfDeath  \\\n",
       "0  10093  Abakanowicz, Magdalena  Female  born 1930         1930            0   \n",
       "1      0     Abbey, Edwin Austin    Male  1852–1911         1852         1911   \n",
       "2   2756        Abbott, Berenice  Female  1898–1991         1898         1991   \n",
       "3      1  Abbott, Lemuel Francis    Male  1760–1803         1760         1803   \n",
       "4    622          Abrahams, Ivor    Male  born 1935         1935            0   \n",
       "\n",
       "                     placeOfBirth            placeOfDeath  \\\n",
       "0                          Polska                     NaN   \n",
       "1     Philadelphia, United States  London, United Kingdom   \n",
       "2      Springfield, United States   Monson, United States   \n",
       "3  Leicestershire, United Kingdom  London, United Kingdom   \n",
       "4           Wigan, United Kingdom                     NaN   \n",
       "\n",
       "                                                 url                  name2  \n",
       "0  http://www.tate.org.uk/art/artists/magdalena-a...  Magdalena Abakanowicz  \n",
       "1  http://www.tate.org.uk/art/artists/edwin-austi...                    N/A  \n",
       "2  http://www.tate.org.uk/art/artists/berenice-ab...        Berenice Abbott  \n",
       "3  http://www.tate.org.uk/art/artists/lemuel-fran...                    N/A  \n",
       "4  http://www.tate.org.uk/art/artists/ivor-abraha...          Ivor Abrahams  "
      ]
     },
     "execution_count": 42,
     "metadata": {},
     "output_type": "execute_result"
    }
   ],
   "source": [
    "df_tate.dropna(subset=['name2'], inplace=True)\n",
    "len(df_tate)\n",
    "df_tate.head(5)"
   ]
  },
  {
   "cell_type": "markdown",
   "metadata": {},
   "source": [
    "TODO fix above not removing N/a\n",
    "\n",
    "We now have in the tate dataset a subset with only the artists that occur\n",
    "in both data sets (or rather, have a matching name in both datasets, 'John\n",
    "Smith' in MoMa may be a different 'John Smith' in the Tate). Let's try merging:\n",
    "\n",
    "Mext we merge the two datatables. Merging is a huge topic (see here), but\n",
    "essentialy we have to tell Pandas, what we want to merge, which columns to\n",
    "merge on, and how to handle gaps from either or both sides).\n",
    "\n",
    "This will merge on the field 'name2' from df_tate and 'DisplayName' from df_moma, only keeping rows that exist in the tate index [???]\n",
    "\n",
    "\n"
   ]
  },
  {
   "cell_type": "code",
   "execution_count": 43,
   "metadata": {
    "collapsed": false
   },
   "outputs": [
    {
     "data": {
      "text/html": [
       "<div>\n",
       "<table border=\"1\" class=\"dataframe\">\n",
       "  <thead>\n",
       "    <tr style=\"text-align: right;\">\n",
       "      <th></th>\n",
       "      <th>﻿id</th>\n",
       "      <th>name</th>\n",
       "      <th>gender</th>\n",
       "      <th>dates</th>\n",
       "      <th>yearOfBirth</th>\n",
       "      <th>yearOfDeath</th>\n",
       "      <th>placeOfBirth</th>\n",
       "      <th>placeOfDeath</th>\n",
       "      <th>url</th>\n",
       "      <th>name2</th>\n",
       "      <th>﻿ConstituentID</th>\n",
       "      <th>DisplayName</th>\n",
       "      <th>ArtistBio</th>\n",
       "      <th>Nationality</th>\n",
       "      <th>Gender</th>\n",
       "      <th>BeginDate</th>\n",
       "      <th>EndDate</th>\n",
       "      <th>Wiki QID</th>\n",
       "      <th>ULAN</th>\n",
       "    </tr>\n",
       "  </thead>\n",
       "  <tbody>\n",
       "    <tr>\n",
       "      <th>0</th>\n",
       "      <td>10093</td>\n",
       "      <td>Abakanowicz, Magdalena</td>\n",
       "      <td>Female</td>\n",
       "      <td>born 1930</td>\n",
       "      <td>1930</td>\n",
       "      <td>0</td>\n",
       "      <td>Polska</td>\n",
       "      <td>NaN</td>\n",
       "      <td>http://www.tate.org.uk/art/artists/magdalena-a...</td>\n",
       "      <td>Magdalena Abakanowicz</td>\n",
       "      <td>38.0</td>\n",
       "      <td>Magdalena Abakanowicz</td>\n",
       "      <td>Polish, born 1930</td>\n",
       "      <td>Polish</td>\n",
       "      <td>Female</td>\n",
       "      <td>1930.0</td>\n",
       "      <td>0.0</td>\n",
       "      <td>Q158080</td>\n",
       "      <td>500084577.0</td>\n",
       "    </tr>\n",
       "  </tbody>\n",
       "</table>\n",
       "</div>"
      ],
      "text/plain": [
       "     ﻿id                    name  gender      dates  yearOfBirth  yearOfDeath  \\\n",
       "0  10093  Abakanowicz, Magdalena  Female  born 1930         1930            0   \n",
       "\n",
       "  placeOfBirth placeOfDeath  \\\n",
       "0       Polska          NaN   \n",
       "\n",
       "                                                 url                  name2  \\\n",
       "0  http://www.tate.org.uk/art/artists/magdalena-a...  Magdalena Abakanowicz   \n",
       "\n",
       "   ﻿ConstituentID            DisplayName          ArtistBio Nationality  \\\n",
       "0            38.0  Magdalena Abakanowicz  Polish, born 1930      Polish   \n",
       "\n",
       "   Gender  BeginDate  EndDate Wiki QID         ULAN  \n",
       "0  Female     1930.0      0.0  Q158080  500084577.0  "
      ]
     },
     "execution_count": 43,
     "metadata": {},
     "output_type": "execute_result"
    }
   ],
   "source": [
    "df_museums = pd.merge(df_tate, df_moma, left_on='name2', right_on='DisplayName', how='left')\n",
    "df_museums.head(1)"
   ]
  },
  {
   "cell_type": "code",
   "execution_count": 44,
   "metadata": {
    "collapsed": false
   },
   "outputs": [
    {
     "name": "stdout",
     "output_type": "stream",
     "text": [
      "<class 'pandas.core.frame.DataFrame'>\n",
      "Int64Index: 3537 entries, 0 to 3536\n",
      "Data columns (total 19 columns):\n",
      "﻿id               3537 non-null int64\n",
      "name              3537 non-null object\n",
      "gender            3421 non-null object\n",
      "dates             3475 non-null object\n",
      "yearOfBirth       3537 non-null int64\n",
      "yearOfDeath       3537 non-null int64\n",
      "placeOfBirth      3044 non-null object\n",
      "placeOfDeath      1454 non-null object\n",
      "url               3537 non-null object\n",
      "name2             3537 non-null object\n",
      "﻿ConstituentID    1174 non-null float64\n",
      "DisplayName       1174 non-null object\n",
      "ArtistBio         1164 non-null object\n",
      "Nationality       1156 non-null object\n",
      "Gender            1158 non-null object\n",
      "BeginDate         1174 non-null float64\n",
      "EndDate           1174 non-null float64\n",
      "Wiki QID          808 non-null object\n",
      "ULAN              797 non-null float64\n",
      "dtypes: float64(4), int64(3), object(12)\n",
      "memory usage: 552.7+ KB\n"
     ]
    }
   ],
   "source": [
    "df_museums.info()"
   ]
  },
  {
   "cell_type": "markdown",
   "metadata": {},
   "source": [
    "This creates a rather unweildy merge dataset with all the columns from both\n",
    "datasets, joined on artists.\n",
    "\n",
    "As this is a bit too much, let's instead just pull out one column from each\n",
    "dataset for the merge:\n"
   ]
  },
  {
   "cell_type": "code",
   "execution_count": 45,
   "metadata": {
    "collapsed": false
   },
   "outputs": [
    {
     "data": {
      "text/html": [
       "<div>\n",
       "<table border=\"1\" class=\"dataframe\">\n",
       "  <thead>\n",
       "    <tr style=\"text-align: right;\">\n",
       "      <th></th>\n",
       "      <th>name2</th>\n",
       "      <th>yearOfBirth</th>\n",
       "      <th>BeginDate</th>\n",
       "    </tr>\n",
       "  </thead>\n",
       "  <tbody>\n",
       "    <tr>\n",
       "      <th>0</th>\n",
       "      <td>Magdalena Abakanowicz</td>\n",
       "      <td>1930</td>\n",
       "      <td>1930.0</td>\n",
       "    </tr>\n",
       "  </tbody>\n",
       "</table>\n",
       "</div>"
      ],
      "text/plain": [
       "                   name2  yearOfBirth  BeginDate\n",
       "0  Magdalena Abakanowicz         1930     1930.0"
      ]
     },
     "execution_count": 45,
     "metadata": {},
     "output_type": "execute_result"
    }
   ],
   "source": [
    "df_museums2 = df_museums[[\"name2\", \"yearOfBirth\", \"BeginDate\"]]\n",
    "df_museums2.head(1)"
   ]
  },
  {
   "cell_type": "markdown",
   "metadata": {},
   "source": [
    "Likewise we could pull out other data columns. An exercise in data analysis\n",
    "would be to pull out what should be matching columns (year of artists birth\n",
    "for example) and compare the values from both datasets, to test for any\n",
    "differences that need further investigation.\n",
    "\n",
    "That's it for an introduction to Pandas. Next, we move onto everyone's\n",
    "favourite part, data visulation, using the Bokeh library, which also gives us another way\n",
    "of discovering data inconsistencies and interesting data patterns, this time within the same dataset.\n",
    "\n",
    "\n",
    "Many thanks for Tate & MoMa for releasing these records.\n",
    "\n"
   ]
  }
 ],
 "metadata": {
  "kernelspec": {
   "display_name": "Python 3",
   "language": "python",
   "name": "python3"
  },
  "language_info": {
   "codemirror_mode": {
    "name": "ipython",
    "version": 3
   },
   "file_extension": ".py",
   "mimetype": "text/x-python",
   "name": "python",
   "nbconvert_exporter": "python",
   "pygments_lexer": "ipython3",
   "version": "3.5.3"
  }
 },
 "nbformat": 4,
 "nbformat_minor": 0
}
